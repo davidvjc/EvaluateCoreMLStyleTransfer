{
 "cells": [
  {
   "cell_type": "markdown",
   "metadata": {},
   "source": [
    "# The Data Science Workflow"
   ]
  },
  {
   "cell_type": "markdown",
   "metadata": {},
   "source": [
    "![](../assets/turi/5step.jpg)"
   ]
  },
  {
   "cell_type": "markdown",
   "metadata": {},
   "source": [
    "# Turi Style Transfer"
   ]
  },
  {
   "cell_type": "markdown",
   "metadata": {},
   "source": [
    "![](../assets/turi/styletransfer.jpg)"
   ]
  },
  {
   "cell_type": "code",
   "execution_count": 1,
   "metadata": {
    "collapsed": true
   },
   "outputs": [],
   "source": [
    "import turicreate as tc\n",
    "# load style and content sources\n",
    "\n",
    "styles = tc.load_images('styles/')\n",
    "content = tc.load_images('content/')"
   ]
  },
  {
   "cell_type": "code",
   "execution_count": 31,
   "metadata": {
    "scrolled": true
   },
   "outputs": [
    {
     "name": "stdout",
     "output_type": "stream",
     "text": [
      "Using 'image' in style_dataset as feature column and using 'image' in content_dataset as feature column\n",
      "Using CPU to create model\n",
      "Analyzing visual features of the style images\n",
      "+--------------+--------------+--------------+\n",
      "| Iteration    | Loss         | Elapsed Time |\n",
      "+--------------+--------------+--------------+\n",
      "| 1            | 43.143       | 14.6         |\n",
      "| 2            | 41.073       | 55.5         |\n",
      "| 3            | 37.791       | 93.0         |\n",
      "| 4            | 34.831       | 130.1        |\n",
      "| 5            | 35.599       | 172.4        |\n",
      "| 6            | 36.118       | 210.3        |\n",
      "| 7            | 34.659       | 243.3        |\n",
      "| 8            | 35.243       | 275.8        |\n",
      "| 9            | 32.595       | 308.2        |\n",
      "| 10           | 30.118       | 340.6        |\n",
      "| 11           | 27.888       | 373.1        |\n",
      "| 12           | 25.870       | 405.5        |\n",
      "| 13           | 27.427       | 438.0        |\n",
      "| 14           | 28.664       | 472.8        |\n",
      "| 15           | 26.553       | 506.7        |\n",
      "| 16           | 26.007       | 543.9        |\n",
      "| 17           | 27.494       | 583.4        |\n",
      "| 18           | 26.844       | 620.3        |\n",
      "| 19           | 24.908       | 656.6        |\n",
      "| 20           | 24.505       | 689.2        |\n",
      "| 21           | 24.217       | 721.5        |\n",
      "| 22           | 26.086       | 758.2        |\n",
      "| 23           | 24.286       | 794.0        |\n",
      "| 24           | 25.714       | 834.9        |\n",
      "| 25           | 23.857       | 872.9        |\n",
      "| 26           | 22.180       | 910.6        |\n",
      "| 27           | 20.668       | 944.3        |\n",
      "| 28           | 20.735       | 978.9        |\n",
      "| 29           | 22.588       | 1020.3       |\n",
      "| 30           | 21.036       | 1056.4       |\n",
      "| 31           | 22.837       | 1091.5       |\n",
      "| 32           | 21.253       | 1127.8       |\n",
      "| 33           | 23.223       | 1164.1       |\n",
      "| 34           | 23.138       | 1200.1       |\n",
      "| 35           | 22.838       | 1236.2       |\n",
      "| 36           | 22.782       | 1271.9       |\n",
      "| 37           | 21.172       | 1304.2       |\n",
      "| 38           | 21.272       | 1336.8       |\n",
      "| 39           | 21.139       | 1369.5       |\n",
      "| 40           | 19.699       | 1403.3       |\n",
      "| 41           | 18.468       | 1440.0       |\n",
      "| 42           | 17.357       | 1474.5       |\n",
      "| 43           | 16.285       | 1508.1       |\n",
      "| 44           | 15.318       | 1544.3       |\n",
      "| 45           | 15.847       | 1581.4       |\n",
      "| 46           | 16.435       | 1616.1       |\n",
      "| 47           | 16.844       | 1652.3       |\n",
      "| 48           | 15.875       | 1690.0       |\n",
      "| 49           | 16.444       | 1728.5       |\n",
      "| 50           | 15.443       | 1764.6       |\n",
      "| 51           | 15.933       | 1803.3       |\n",
      "| 52           | 14.978       | 1840.6       |\n",
      "| 53           | 15.411       | 1874.6       |\n",
      "| 54           | 17.624       | 1907.1       |\n",
      "| 55           | 16.473       | 1939.5       |\n",
      "| 56           | 16.841       | 1971.8       |\n",
      "| 57           | 18.635       | 2004.1       |\n",
      "| 58           | 18.887       | 2036.7       |\n",
      "| 59           | 17.618       | 2069.1       |\n",
      "| 60           | 19.380       | 2104.1       |\n",
      "| 61           | 19.438       | 2138.6       |\n",
      "| 62           | 20.990       | 2174.7       |\n",
      "| 63           | 19.479       | 2211.7       |\n",
      "| 64           | 18.117       | 2248.0       |\n",
      "| 65           | 19.879       | 2286.1       |\n",
      "| 66           | 21.319       | 2320.2       |\n",
      "| 67           | 21.263       | 2352.6       |\n",
      "| 68           | 21.208       | 2385.3       |\n",
      "| 69           | 19.747       | 2417.6       |\n",
      "| 70           | 19.835       | 2450.2       |\n",
      "| 71           | 19.812       | 2482.5       |\n",
      "| 72           | 21.264       | 2516.9       |\n",
      "| 73           | 22.434       | 2555.3       |\n",
      "| 74           | 23.417       | 2588.4       |\n",
      "| 75           | 24.286       | 2620.9       |\n",
      "| 76           | 23.895       | 2653.6       |\n",
      "| 77           | 23.349       | 2685.9       |\n",
      "| 78           | 23.043       | 2718.3       |\n",
      "| 79           | 22.574       | 2752.9       |\n",
      "| 80           | 20.870       | 2788.3       |\n",
      "| 81           | 20.798       | 2821.9       |\n",
      "| 82           | 20.541       | 2859.8       |\n",
      "| 83           | 20.493       | 2896.4       |\n",
      "| 84           | 20.257       | 2932.2       |\n",
      "| 85           | 20.040       | 2969.2       |\n",
      "| 86           | 18.603       | 3003.1       |\n",
      "| 87           | 17.284       | 3036.8       |\n",
      "| 88           | 16.095       | 3070.7       |\n",
      "| 89           | 15.023       | 3110.2       |\n",
      "| 90           | 16.550       | 3147.8       |\n",
      "| 91           | 16.865       | 3183.6       |\n",
      "| 92           | 15.732       | 3222.4       |\n",
      "| 93           | 16.121       | 3257.4       |\n",
      "| 94           | 16.381       | 3291.3       |\n",
      "| 95           | 15.291       | 3324.9       |\n",
      "| 96           | 14.285       | 3362.6       |\n",
      "| 97           | 13.401       | 3399.6       |\n",
      "| 98           | 13.814       | 3435.9       |\n",
      "| 99           | 14.370       | 3471.5       |\n",
      "| 100          | 15.967       | 3507.3       |\n",
      "+--------------+--------------+--------------+\n"
     ]
    }
   ],
   "source": [
    "# create Style Transfer model\n",
    "#model = tc.style_transfer.create(styles, content, max_iterations=100)"
   ]
  },
  {
   "cell_type": "code",
   "execution_count": 7,
   "metadata": {},
   "outputs": [],
   "source": [
    "# save model\n",
    "#model.save('dog_style_model3.model')\n",
    "\n",
    "# load model\n",
    "model = tc.load_model('dog_style_model3.model')"
   ]
  },
  {
   "cell_type": "code",
   "execution_count": 8,
   "metadata": {},
   "outputs": [
    {
     "data": {
      "text/plain": [
       "Class                                    : StyleTransfer\n",
       "\n",
       "Schema\n",
       "------\n",
       "Model                                    : resnet-16\n",
       "Number of unique styles                  : 3\n",
       "Input image shape                        : (256, 256)\n",
       "\n",
       "Training summary\n",
       "----------------\n",
       "Training time                            : 58m 27s\n",
       "Training epochs                          : 200\n",
       "Training iterations                      : 100\n",
       "Number of style images                   : 3\n",
       "Number of content images                 : 3\n",
       "Final loss                               : 15.9675"
      ]
     },
     "execution_count": 8,
     "metadata": {},
     "output_type": "execute_result"
    }
   ],
   "source": [
    "# get model characteristics\n",
    "model"
   ]
  },
  {
   "cell_type": "code",
   "execution_count": 36,
   "metadata": {},
   "outputs": [
    {
     "data": {
      "text/html": [
       "<div style=\"max-height:1000px;max-width:1500px;overflow:auto;\"><table frame=\"box\" rules=\"cols\">\n",
       "    <tr>\n",
       "        <th style=\"padding-left: 1em; padding-right: 1em; text-align: center\">path</th>\n",
       "        <th style=\"padding-left: 1em; padding-right: 1em; text-align: center\">image</th>\n",
       "    </tr>\n",
       "    <tr>\n",
       "        <td style=\"padding-left: 1em; padding-right: 1em; text-align: center; vertical-align: top\">styles/monet.jpg</td>\n",
       "        <td style=\"padding-left: 1em; padding-right: 1em; text-align: center; vertical-align: top\">Height: 966 Width: 1200</td>\n",
       "    </tr>\n",
       "    <tr>\n",
       "        <td style=\"padding-left: 1em; padding-right: 1em; text-align: center; vertical-align: top\">styles/tiles.jpg</td>\n",
       "        <td style=\"padding-left: 1em; padding-right: 1em; text-align: center; vertical-align: top\">Height: 1000 Width: 1000</td>\n",
       "    </tr>\n",
       "    <tr>\n",
       "        <td style=\"padding-left: 1em; padding-right: 1em; text-align: center; vertical-align: top\">styles/warmstones.jpeg</td>\n",
       "        <td style=\"padding-left: 1em; padding-right: 1em; text-align: center; vertical-align: top\">Height: 194 Width: 259</td>\n",
       "    </tr>\n",
       "</table>\n",
       "[3 rows x 2 columns]<br/>\n",
       "</div>"
      ],
      "text/plain": [
       "Columns:\n",
       "\tpath\tstr\n",
       "\timage\tImage\n",
       "\n",
       "Rows: 3\n",
       "\n",
       "Data:\n",
       "+------------------------+--------------------------+\n",
       "|          path          |          image           |\n",
       "+------------------------+--------------------------+\n",
       "|    styles/monet.jpg    | Height: 966 Width: 1200  |\n",
       "|    styles/tiles.jpg    | Height: 1000 Width: 1000 |\n",
       "| styles/warmstones.jpeg |  Height: 194 Width: 259  |\n",
       "+------------------------+--------------------------+\n",
       "[3 rows x 2 columns]"
      ]
     },
     "execution_count": 36,
     "metadata": {},
     "output_type": "execute_result"
    }
   ],
   "source": [
    "# peek at style sources\n",
    "styles\n",
    "\n",
    "#\n",
    "# my_styles = model.styles"
   ]
  },
  {
   "cell_type": "markdown",
   "metadata": {},
   "source": [
    "### Our styles\n",
    "<img src=\"styles/monet.jpg\" width=\"600\">\n",
    "<img src=\"styles/tiles.jpg\" width=\"600\">\n",
    "<img src=\"styles/warmstones.jpeg\" width=\"600\">"
   ]
  },
  {
   "cell_type": "code",
   "execution_count": 9,
   "metadata": {},
   "outputs": [
    {
     "name": "stdout",
     "output_type": "stream",
     "text": [
      "Stylizing 5 image(s) using 3 style(s)\n",
      "Scaling down 5 image(s) exceeding 800x800\n",
      "Stylizing  1/15\n",
      "Stylizing  2/15\n",
      "Stylizing  3/15\n",
      "Stylizing  4/15\n",
      "Stylizing  5/15\n",
      "Stylizing  6/15\n",
      "Stylizing  7/15\n",
      "Stylizing  8/15\n",
      "Stylizing  9/15\n",
      "Stylizing 10/15\n",
      "Stylizing 11/15\n",
      "Stylizing 12/15\n",
      "Stylizing 13/15\n",
      "Stylizing 14/15\n",
      "Stylizing 15/15\n"
     ]
    }
   ],
   "source": [
    "# load test images\n",
    "test_images = tc.load_images('dogs/')\n",
    "\n",
    "# stylize test set\n",
    "stylized_images = model.stylize(test_images)"
   ]
  },
  {
   "cell_type": "markdown",
   "metadata": {},
   "source": [
    "### One of our test images\n",
    "<img src=\"dogs/doberman-pinscher-1489049617-1.jpg\" width=\"600\">"
   ]
  },
  {
   "cell_type": "code",
   "execution_count": 10,
   "metadata": {},
   "outputs": [
    {
     "data": {
      "text/html": [
       "<pre>Materializing SFrame</pre>"
      ],
      "text/plain": [
       "Materializing SFrame"
      ]
     },
     "metadata": {},
     "output_type": "display_data"
    }
   ],
   "source": [
    "# open gallery view\n",
    "stylized_images.explore()"
   ]
  },
  {
   "cell_type": "raw",
   "metadata": {},
   "source": [
    "# we can target specific images and styles\n",
    "\n",
    "# first style\n",
    "stylized_image = model.stylize(test_images, style=0)\n",
    "\n",
    "# subset of styles\n",
    "stylized_images = model.stylize(test_images, style=[1, 2])"
   ]
  },
  {
   "cell_type": "code",
   "execution_count": 46,
   "metadata": {},
   "outputs": [
    {
     "name": "stdout",
     "output_type": "stream",
     "text": [
      "Stylizing 5 image(s) using 1 style(s)\n",
      "Scaling down 5 image(s) exceeding 800x800\n",
      "Stylizing 1/5\n",
      "Stylizing 2/5\n",
      "Stylizing 3/5\n",
      "Stylizing 4/5\n",
      "Stylizing 5/5\n"
     ]
    }
   ],
   "source": [
    "monet_images = model.stylize(test_images, style=1)"
   ]
  },
  {
   "cell_type": "code",
   "execution_count": 47,
   "metadata": {},
   "outputs": [
    {
     "data": {
      "text/html": [
       "<div style=\"max-height:1000px;max-width:1500px;overflow:auto;\"><table frame=\"box\" rules=\"cols\">\n",
       "    <tr>\n",
       "        <th style=\"padding-left: 1em; padding-right: 1em; text-align: center\">row_id</th>\n",
       "        <th style=\"padding-left: 1em; padding-right: 1em; text-align: center\">style</th>\n",
       "        <th style=\"padding-left: 1em; padding-right: 1em; text-align: center\">stylized_image</th>\n",
       "    </tr>\n",
       "    <tr>\n",
       "        <td style=\"padding-left: 1em; padding-right: 1em; text-align: center; vertical-align: top\">0</td>\n",
       "        <td style=\"padding-left: 1em; padding-right: 1em; text-align: center; vertical-align: top\">1</td>\n",
       "        <td style=\"padding-left: 1em; padding-right: 1em; text-align: center; vertical-align: top\">Height: 504 Width: 800</td>\n",
       "    </tr>\n",
       "    <tr>\n",
       "        <td style=\"padding-left: 1em; padding-right: 1em; text-align: center; vertical-align: top\">1</td>\n",
       "        <td style=\"padding-left: 1em; padding-right: 1em; text-align: center; vertical-align: top\">1</td>\n",
       "        <td style=\"padding-left: 1em; padding-right: 1em; text-align: center; vertical-align: top\">Height: 504 Width: 800</td>\n",
       "    </tr>\n",
       "    <tr>\n",
       "        <td style=\"padding-left: 1em; padding-right: 1em; text-align: center; vertical-align: top\">2</td>\n",
       "        <td style=\"padding-left: 1em; padding-right: 1em; text-align: center; vertical-align: top\">1</td>\n",
       "        <td style=\"padding-left: 1em; padding-right: 1em; text-align: center; vertical-align: top\">Height: 504 Width: 800</td>\n",
       "    </tr>\n",
       "    <tr>\n",
       "        <td style=\"padding-left: 1em; padding-right: 1em; text-align: center; vertical-align: top\">3</td>\n",
       "        <td style=\"padding-left: 1em; padding-right: 1em; text-align: center; vertical-align: top\">1</td>\n",
       "        <td style=\"padding-left: 1em; padding-right: 1em; text-align: center; vertical-align: top\">Height: 504 Width: 800</td>\n",
       "    </tr>\n",
       "    <tr>\n",
       "        <td style=\"padding-left: 1em; padding-right: 1em; text-align: center; vertical-align: top\">4</td>\n",
       "        <td style=\"padding-left: 1em; padding-right: 1em; text-align: center; vertical-align: top\">1</td>\n",
       "        <td style=\"padding-left: 1em; padding-right: 1em; text-align: center; vertical-align: top\">Height: 800 Width: 775</td>\n",
       "    </tr>\n",
       "</table>\n",
       "[5 rows x 3 columns]<br/>\n",
       "</div>"
      ],
      "text/plain": [
       "Columns:\n",
       "\trow_id\tint\n",
       "\tstyle\tint\n",
       "\tstylized_image\tImage\n",
       "\n",
       "Rows: 5\n",
       "\n",
       "Data:\n",
       "+--------+-------+------------------------+\n",
       "| row_id | style |     stylized_image     |\n",
       "+--------+-------+------------------------+\n",
       "|   0    |   1   | Height: 504 Width: 800 |\n",
       "|   1    |   1   | Height: 504 Width: 800 |\n",
       "|   2    |   1   | Height: 504 Width: 800 |\n",
       "|   3    |   1   | Height: 504 Width: 800 |\n",
       "|   4    |   1   | Height: 800 Width: 775 |\n",
       "+--------+-------+------------------------+\n",
       "[5 rows x 3 columns]"
      ]
     },
     "execution_count": 47,
     "metadata": {},
     "output_type": "execute_result"
    }
   ],
   "source": [
    "monet_images"
   ]
  },
  {
   "cell_type": "code",
   "execution_count": 48,
   "metadata": {},
   "outputs": [
    {
     "data": {
      "text/html": [
       "<pre>Materializing SFrame</pre>"
      ],
      "text/plain": [
       "Materializing SFrame"
      ]
     },
     "metadata": {},
     "output_type": "display_data"
    }
   ],
   "source": [
    "monet_images.explore()"
   ]
  },
  {
   "cell_type": "markdown",
   "metadata": {},
   "source": [
    "## Some notes on ResNet\n",
    "\n",
    "1. AlexNet (ConvNet) won the LSVRC2012 classification contest, and changed the game forever!\n",
    "1. Descendents built more complex models with deeper layers...\n",
    "1. Until the \"[vanishing gradient](http://neuralnetworksanddeeplearning.com/chap5.html)\" problem brought things to a halt\n",
    "1. Enter ResNet\n",
    "    1. By Kaiming He, Xiangyu Zhang, Shaoqing Ren, and Jian Sun of Microsoft Research\n",
    "    2. [Paper on arXiv](https://arxiv.org/pdf/1512.03385.pdf)\n",
    "1. ResNet (Residual Network) trains thousands of layers with fast performance\n",
    "1. This is accomplished with _skip connections_, similar to memory cells in LSTMs\n",
    "1. We can build deeper CNNs (and other deep learning models) with better performance and less need to optimize architecture!"
   ]
  },
  {
   "cell_type": "markdown",
   "metadata": {},
   "source": [
    "!['ResNet Architecture'](https://cdn-images-1.medium.com/max/1200/1*2ns4ota94je5gSVjrpFq3A.png)"
   ]
  },
  {
   "cell_type": "markdown",
   "metadata": {},
   "source": [
    "[Interactive ResNet Architecture](http://ethereon.github.io/netscope/#/gist/db945b393d40bfa26006)"
   ]
  }
 ],
 "metadata": {
  "anaconda-cloud": {},
  "kernelspec": {
   "display_name": "Python 3",
   "language": "python",
   "name": "python3"
  },
  "language_info": {
   "codemirror_mode": {
    "name": "ipython",
    "version": 3
   },
   "file_extension": ".py",
   "mimetype": "text/x-python",
   "name": "python",
   "nbconvert_exporter": "python",
   "pygments_lexer": "ipython3",
   "version": "3.7.0"
  },
  "toc": {
   "colors": {
    "hover_highlight": "#DAA520",
    "navigate_num": "#000000",
    "navigate_text": "#333333",
    "running_highlight": "#FF0000",
    "selected_highlight": "#FFD700",
    "sidebar_border": "#EEEEEE",
    "wrapper_background": "#FFFFFF"
   },
   "moveMenuLeft": false,
   "nav_menu": {
    "height": "30px",
    "width": "252px"
   },
   "navigate_menu": true,
   "number_sections": false,
   "sideBar": false,
   "threshold": "3",
   "toc_cell": false,
   "toc_section_display": "block",
   "toc_window_display": false,
   "widenNotebook": false
  }
 },
 "nbformat": 4,
 "nbformat_minor": 2
}
